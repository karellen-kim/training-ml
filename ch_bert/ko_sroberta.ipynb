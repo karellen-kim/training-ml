{
 "cells": [
  {
   "cell_type": "markdown",
   "metadata": {},
   "source": [
    "## Sentence Transformer\n",
    "* https://huggingface.co/jhgan/ko-sroberta-multitask\n",
    "* https://github.com/jhgan00/ko-sentence-transformers"
   ]
  },
  {
   "cell_type": "code",
   "execution_count": 1,
   "metadata": {
    "tags": []
   },
   "outputs": [
    {
     "data": {
      "text/plain": [
       "array([[-0.37510464, -0.7733839 ,  0.5927711 , ...,  0.57923526,\n",
       "         0.32683483, -0.6508965 ],\n",
       "       [-0.09361704, -0.18191524, -0.19230816, ..., -0.03165802,\n",
       "         0.30412534, -0.2679362 ]], dtype=float32)"
      ]
     },
     "execution_count": 1,
     "metadata": {},
     "output_type": "execute_result"
    }
   ],
   "source": [
    "import torch\n",
    "from sentence_transformers import SentenceTransformer\n",
    "\n",
    "device = torch.device('mps') if torch.cuda.is_available() else torch.device('cpu')\n",
    "sbert_model_name = \"jhgan/ko-sroberta-multitask\"\n",
    "model = SentenceTransformer(sbert_model_name).to(device=device)\n",
    "\n",
    "sentences = [\"안녕하세요?\", \"한국어 문장 임베딩을 위한 버트 모델입니다.\"]\n",
    "embedding = model.encode(sentences, convert_to_numpy=True)\n",
    "\n",
    "embedding"
   ]
  },
  {
   "cell_type": "markdown",
   "metadata": {
    "collapsed": false,
    "jupyter": {
     "outputs_hidden": false
    }
   },
   "source": [
    "## 유사 문장 찾기"
   ]
  },
  {
   "cell_type": "code",
   "execution_count": 2,
   "metadata": {
    "ExecuteTime": {
     "end_time": "2023-05-24T00:08:26.136610Z",
     "start_time": "2023-05-24T00:08:24.831197Z"
    }
   },
   "outputs": [
    {
     "data": {
      "text/plain": [
       "tensor([0.1600, 0.1835, 0.2892, 0.0627, 0.3318, 0.1335, 0.1501, 0.3141, 0.2155,\n",
       "        0.0364, 0.1900, 0.3222, 0.3558, 0.3428, 0.1942, 0.1193, 0.2569, 0.1801,\n",
       "        0.2897, 0.1749, 0.0476, 0.0895, 0.3356, 0.2260, 0.1947, 0.1042, 0.1944,\n",
       "        0.0411, 0.2324, 0.2764, 0.1599, 0.1944, 0.2797, 0.1521, 0.2806, 0.2186,\n",
       "        0.3783, 0.2336, 0.1732, 0.1611, 0.2024, 0.1522, 0.2134, 0.1954, 0.0433,\n",
       "        0.2006, 0.1733, 0.2128, 0.1466, 0.2357, 0.2471, 0.2059, 0.1842, 0.0597,\n",
       "        0.2681, 0.2321, 0.2316, 0.0739, 0.4056, 0.2771, 0.2856, 0.4977, 0.0873,\n",
       "        0.1877, 0.1699, 0.1657, 0.2298, 0.1022, 0.3278, 0.1901, 0.2196, 0.1000,\n",
       "        0.1798, 0.0884, 0.2957, 0.2371, 0.1625, 0.2254, 0.2530, 0.2859, 0.2297,\n",
       "        0.2970, 0.2924, 0.1152, 0.2428, 0.2435, 0.1649, 0.1744, 0.0617, 0.1861,\n",
       "        0.1183, 0.2258, 0.1883, 0.2336, 0.1073, 0.0534, 0.1816, 0.3284, 0.2890,\n",
       "        0.3274, 0.3278, 0.1417])"
      ]
     },
     "execution_count": 2,
     "metadata": {},
     "output_type": "execute_result"
    }
   ],
   "source": [
    "import pandas as pd\n",
    "from sentence_transformers import SentenceTransformer, util\n",
    "\n",
    "model = SentenceTransformer('jhgan/ko-sroberta-multitask')\n",
    "movie_names = pd.read_csv('./data/movie.csv', names=['name'], sep='\\t')['name'].tolist()\n",
    "embeddings = model.encode(movie_names, convert_to_tensor=True)\n",
    "\n",
    "scores = util.pytorch_cos_sim(model.encode(\"나쁜 녀석들\", convert_to_tensor=True), embeddings)[0]\n",
    "scores"
   ]
  },
  {
   "cell_type": "code",
   "execution_count": 4,
   "metadata": {
    "ExecuteTime": {
     "end_time": "2023-05-24T00:08:48.619244Z",
     "start_time": "2023-05-24T00:08:48.613870Z"
    },
    "collapsed": false,
    "jupyter": {
     "outputs_hidden": false
    }
   },
   "outputs": [
    {
     "data": {
      "text/plain": [
       "torch.return_types.topk(\n",
       "values=tensor([0.4977, 0.4056, 0.3783, 0.3558, 0.3428]),\n",
       "indices=tensor([61, 58, 36, 12, 13]))"
      ]
     },
     "execution_count": 4,
     "metadata": {},
     "output_type": "execute_result"
    }
   ],
   "source": [
    "import torch\n",
    "\n",
    "result = torch.topk(scores, k=5)\n",
    "result"
   ]
  },
  {
   "cell_type": "code",
   "execution_count": 10,
   "metadata": {
    "ExecuteTime": {
     "end_time": "2023-05-24T00:14:43.198387Z",
     "start_time": "2023-05-24T00:14:43.187058Z"
    },
    "collapsed": false,
    "jupyter": {
     "outputs_hidden": false
    }
   },
   "outputs": [
    {
     "data": {
      "text/html": [
       "<div>\n",
       "<style scoped>\n",
       "    .dataframe tbody tr th:only-of-type {\n",
       "        vertical-align: middle;\n",
       "    }\n",
       "\n",
       "    .dataframe tbody tr th {\n",
       "        vertical-align: top;\n",
       "    }\n",
       "\n",
       "    .dataframe thead th {\n",
       "        text-align: right;\n",
       "    }\n",
       "</style>\n",
       "<table border=\"1\" class=\"dataframe\">\n",
       "  <thead>\n",
       "    <tr style=\"text-align: right;\">\n",
       "      <th></th>\n",
       "      <th>name</th>\n",
       "      <th>score</th>\n",
       "    </tr>\n",
       "  </thead>\n",
       "  <tbody>\n",
       "    <tr>\n",
       "      <th>0</th>\n",
       "      <td>바스터즈: 거친 녀석들</td>\n",
       "      <td>tensor(0.4977)</td>\n",
       "    </tr>\n",
       "    <tr>\n",
       "      <th>1</th>\n",
       "      <td>폭력의 역사</td>\n",
       "      <td>tensor(0.4056)</td>\n",
       "    </tr>\n",
       "    <tr>\n",
       "      <th>2</th>\n",
       "      <td>엉클 분미</td>\n",
       "      <td>tensor(0.3783)</td>\n",
       "    </tr>\n",
       "    <tr>\n",
       "      <th>3</th>\n",
       "      <td>칠드런 오브 맨</td>\n",
       "      <td>tensor(0.3558)</td>\n",
       "    </tr>\n",
       "    <tr>\n",
       "      <th>4</th>\n",
       "      <td>액트 오브 킬링</td>\n",
       "      <td>tensor(0.3428)</td>\n",
       "    </tr>\n",
       "  </tbody>\n",
       "</table>\n",
       "</div>"
      ],
      "text/plain": [
       "           name           score\n",
       "0  바스터즈: 거친 녀석들  tensor(0.4977)\n",
       "1        폭력의 역사  tensor(0.4056)\n",
       "2         엉클 분미  tensor(0.3783)\n",
       "3      칠드런 오브 맨  tensor(0.3558)\n",
       "4      액트 오브 킬링  tensor(0.3428)"
      ]
     },
     "execution_count": 10,
     "metadata": {},
     "output_type": "execute_result"
    }
   ],
   "source": [
    "data = [[movie_names[idx], score] for score, idx in zip(result[0], result[1])]\n",
    "pd.DataFrame(data, columns=[\"name\", \"score\"])"
   ]
  },
  {
   "cell_type": "code",
   "execution_count": null,
   "metadata": {
    "collapsed": false,
    "jupyter": {
     "outputs_hidden": false
    }
   },
   "outputs": [],
   "source": []
  }
 ],
 "metadata": {
  "kernelspec": {
   "display_name": "Python 3 (ipykernel)",
   "language": "python",
   "name": "python3"
  },
  "language_info": {
   "codemirror_mode": {
    "name": "ipython",
    "version": 3
   },
   "file_extension": ".py",
   "mimetype": "text/x-python",
   "name": "python",
   "nbconvert_exporter": "python",
   "pygments_lexer": "ipython3",
   "version": "3.10.10"
  }
 },
 "nbformat": 4,
 "nbformat_minor": 4
}
