{
 "cells": [
  {
   "cell_type": "markdown",
   "source": [
    "## kogpt\n",
    "* https://github.com/kakaobrain/kogpt"
   ],
   "metadata": {
    "collapsed": false
   }
  },
  {
   "cell_type": "code",
   "execution_count": 1,
   "outputs": [
    {
     "name": "stderr",
     "output_type": "stream",
     "text": [
      "/Users/eunmi.kim/Library/Caches/pypoetry/virtualenvs/pythonproject-UeCig8hf-py3.9/lib/python3.9/site-packages/transformers/generation/utils.py:686: UserWarning: MPS: no support for int64 repeats mask, casting it to int32 (Triggered internally at /Users/runner/work/pytorch/pytorch/pytorch/aten/src/ATen/native/mps/operations/Repeat.mm:236.)\n",
      "  input_ids = input_ids.repeat_interleave(expand_size, dim=0)\n",
      "/Users/eunmi.kim/Library/Caches/pypoetry/virtualenvs/pythonproject-UeCig8hf-py3.9/lib/python3.9/site-packages/transformers/generation/utils.py:2525: UserWarning: MPS: no support for int64 min/max ops, casting it to int32 (Triggered internally at /Users/runner/work/pytorch/pytorch/pytorch/aten/src/ATen/native/mps/operations/ReduceOps.mm:1271.)\n",
      "  if unfinished_sequences.max() == 0 or stopping_criteria(input_ids, scores):\n"
     ]
    },
    {
     "name": "stdout",
     "output_type": "stream",
     "text": [
      "[BOS][BOS][BOS][BOS][BOS][BOS][BOS][BOS][BOS][BOS][BOS][BOS][BOS][BOS][BOS][BOS][BOS][BOS][BOS][BOS][BOS][BOS][BOS][BOS][BOS][BOS][BOS][BOS][BOS][BOS][BOS][BOS][BOS][BOS][BOS][BOS][BOS][BOS][BOS][BOS][BOS][BOS][BOS][BOS][BOS][BOS][BOS][BOS][BOS][BOS][BOS][BOS][BOS][BOS][BOS][BOS][BOS][BOS][BOS][BOS][BOS][BOS][BOS][BOS]\n"
     ]
    }
   ],
   "source": [
    "import torch\n",
    "from transformers import AutoTokenizer, AutoModelForCausalLM\n",
    "\n",
    "device = 'mps'\n",
    "\n",
    "tokenizer = AutoTokenizer.from_pretrained(\n",
    "  'kakaobrain/kogpt', revision='KoGPT6B-ryan1.5b-float16',  # or float32 version: revision=KoGPT6B-ryan1.5b\n",
    "  bos_token='[BOS]', eos_token='[EOS]', unk_token='[UNK]', pad_token='[PAD]', mask_token='[MASK]'\n",
    ")\n",
    "model = AutoModelForCausalLM.from_pretrained(\n",
    "  'kakaobrain/kogpt', revision='KoGPT6B-ryan1.5b-float16',  # or float32 version: revision=KoGPT6B-ryan1.5b\n",
    "  pad_token_id=tokenizer.eos_token_id,\n",
    "  torch_dtype='auto', low_cpu_mem_usage=True\n",
    ").to(device=device, non_blocking=True)\n",
    "_ = model.eval()\n",
    "\n",
    "prompt = '인간처럼 생각하고, 행동하는 지능을 통해'\n",
    "with torch.no_grad():\n",
    "  tokens = tokenizer.encode(prompt, return_tensors='pt').to(device=device, non_blocking=True)\n",
    "  gen_tokens = model.generate(tokens, do_sample=True, temperature=0.8, max_length=64)\n",
    "  generated = tokenizer.batch_decode(gen_tokens)[0]\n",
    "\n",
    "print(generated)"
   ],
   "metadata": {
    "collapsed": false,
    "ExecuteTime": {
     "start_time": "2023-04-11T20:30:49.935568Z",
     "end_time": "2023-04-11T20:33:57.892139Z"
    }
   }
  },
  {
   "cell_type": "code",
   "execution_count": null,
   "outputs": [],
   "source": [],
   "metadata": {
    "collapsed": false
   }
  }
 ],
 "metadata": {
  "kernelspec": {
   "display_name": "Python 3",
   "language": "python",
   "name": "python3"
  },
  "language_info": {
   "codemirror_mode": {
    "name": "ipython",
    "version": 2
   },
   "file_extension": ".py",
   "mimetype": "text/x-python",
   "name": "python",
   "nbconvert_exporter": "python",
   "pygments_lexer": "ipython2",
   "version": "2.7.6"
  }
 },
 "nbformat": 4,
 "nbformat_minor": 0
}
