{
 "cells": [
  {
   "cell_type": "markdown",
   "source": [
    "## GPT (Generative Pre-trained TGransformer)\n",
    "* Transformer\n",
    "    * 시퀀스-투-시퀀스(sequence-to-sequence) : 임의의 시퀀스를 해당 시퀀스와 속성이 다른 시퀀스로 변환하는 작업. 예: 영어 → 한국어 번역 혹은 필리핀 앞바다의 한 달치 기온 데이터를 가지고 앞으로 1주일간 하루 단위로 태풍이 발생할지를 맞히는 과제(기온의 시퀀스 → 태풍 발생 여부의 시퀀스)\n",
    "    * Transformer는 2017년 구글이 제안한 시퀀스-투-시퀀스(sequence-to-sequence) 모델\n",
    "* LLM (a Large Language Model)\n",
    "    * 언어 모델 : 이전 단어들을 바탕으로 다음에 나올 단어나 문장을 예측하는 모델\n",
    "* 종류\n",
    "    * GPT-1 : 117M 파라미터. 최초로 발표된 GPT 모델\n",
    "    * GPT-2 : 117M ~ 1.5B 파라미터\n",
    "    * GPT-3 : 125M ~ 175B 파라미터\n",
    "    * DistilGPT2 : 82M 파라미터. GPT-2 모델의 경량화 버전\n",
    "    * GPT-Neo : 125M ~ 2.7B 파라미터\n",
    "    *\n",
    "<img src=\"img.jpg\">\n",
    "\n",
    "* https://ratsgo.github.io/nlpbook/docs/language_model/bert_gpt/\n",
    "* https://www.youtube.com/watch?v=Zx2MHdRgAIc\n"
   ],
   "metadata": {
    "collapsed": false
   }
  },
  {
   "cell_type": "code",
   "execution_count": 7,
   "outputs": [
    {
     "name": "stdout",
     "output_type": "stream",
     "text": [
      "PyTorch version: 2.0.0\n",
      "Is MPS (Metal Performance Shader) built? True\n",
      "Is MPS available? True\n",
      "Using device: mps\n"
     ]
    }
   ],
   "source": [
    "import torch\n",
    "print(f\"PyTorch version: {torch.__version__}\")\n",
    "print(f\"Is MPS (Metal Performance Shader) built? {torch.backends.mps.is_built()}\")\n",
    "print(f\"Is MPS available? {torch.backends.mps.is_available()}\")\n",
    "device = \"mps\" if torch.backends.mps.is_available() else \"cpu\"\n",
    "print(f\"Using device: {device}\")"
   ],
   "metadata": {
    "collapsed": false,
    "ExecuteTime": {
     "start_time": "2023-04-11T20:22:50.345016Z",
     "end_time": "2023-04-11T20:22:50.349074Z"
    }
   }
  },
  {
   "cell_type": "code",
   "execution_count": 8,
   "outputs": [
    {
     "name": "stderr",
     "output_type": "stream",
     "text": [
      "Setting `pad_token_id` to `eos_token_id`:50256 for open-end generation.\n"
     ]
    },
    {
     "data": {
      "text/plain": "[{'generated_text': \"EleutherAI has provided you with a very useful tool. We do not always have the time to learn all of the latest innovations and techniques for the best benefit of our clients. That's why we would like to invite you to share your knowledge and\"}]"
     },
     "execution_count": 8,
     "metadata": {},
     "output_type": "execute_result"
    }
   ],
   "source": [
    "from transformers import pipeline\n",
    "generator = pipeline('text-generation', model='EleutherAI/gpt-neo-2.7B')\n",
    "generator(\"EleutherAI has\", do_sample=True, min_length=50)"
   ],
   "metadata": {
    "collapsed": false,
    "ExecuteTime": {
     "start_time": "2023-04-11T20:22:53.034642Z",
     "end_time": "2023-04-11T20:23:35.507751Z"
    }
   }
  }
 ],
 "metadata": {
  "kernelspec": {
   "display_name": "Python 3",
   "language": "python",
   "name": "python3"
  },
  "language_info": {
   "codemirror_mode": {
    "name": "ipython",
    "version": 2
   },
   "file_extension": ".py",
   "mimetype": "text/x-python",
   "name": "python",
   "nbconvert_exporter": "python",
   "pygments_lexer": "ipython2",
   "version": "2.7.6"
  }
 },
 "nbformat": 4,
 "nbformat_minor": 0
}
