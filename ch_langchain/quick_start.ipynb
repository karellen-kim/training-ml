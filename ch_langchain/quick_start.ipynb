{
 "cells": [
  {
   "metadata": {},
   "cell_type": "markdown",
   "source": "# Quick Start",
   "id": "71ef182d722cd564"
  },
  {
   "metadata": {
    "ExecuteTime": {
     "end_time": "2024-06-08T15:11:00.341098Z",
     "start_time": "2024-06-08T15:11:00.334576Z"
    }
   },
   "cell_type": "code",
   "source": [
    "import os\n",
    "from dotenv import load_dotenv\n",
    "from langchain_openai import ChatOpenAI\n",
    "from langchain_core.messages import HumanMessage, SystemMessage\n",
    "from langchain_core.output_parsers import StrOutputParser\n",
    "from langchain_core.prompts import ChatPromptTemplate\n",
    "from langchain_core.messages import AIMessage\n",
    "load_dotenv()"
   ],
   "id": "8210e809431ab3ae",
   "outputs": [
    {
     "data": {
      "text/plain": [
       "True"
      ]
     },
     "execution_count": 9,
     "metadata": {},
     "output_type": "execute_result"
    }
   ],
   "execution_count": 9
  },
  {
   "metadata": {},
   "cell_type": "markdown",
   "source": "## LLM",
   "id": "5594d7aabbbe5cb5"
  },
  {
   "metadata": {
    "ExecuteTime": {
     "end_time": "2024-06-08T15:11:01.005275Z",
     "start_time": "2024-06-08T15:11:00.342843Z"
    }
   },
   "cell_type": "code",
   "source": [
    "os.environ[\"LANGCHAIN_TRACING_V2\"] = \"false\"\n",
    "os.environ[\"OPENAI_API_KEY\"] = os.getenv(\"OPENAI_API_KEY\")\n",
    "\n",
    "model = ChatOpenAI(model=\"gpt-3.5-turbo\")\n",
    "\n",
    "messages = [\n",
    "    SystemMessage(content=\"Translate the following from English into Korean\"),\n",
    "    HumanMessage(content=\"Hi\")\n",
    "]\n",
    "model.invoke(messages)"
   ],
   "id": "initial_id",
   "outputs": [
    {
     "data": {
      "text/plain": [
       "AIMessage(content='안녕하세요', response_metadata={'token_usage': {'completion_tokens': 5, 'prompt_tokens': 19, 'total_tokens': 24}, 'model_name': 'gpt-3.5-turbo', 'system_fingerprint': None, 'finish_reason': 'stop', 'logprobs': None}, id='run-63af6fc5-18a6-4e3b-adb4-38469c0c3a0d-0', usage_metadata={'input_tokens': 19, 'output_tokens': 5, 'total_tokens': 24})"
      ]
     },
     "execution_count": 10,
     "metadata": {},
     "output_type": "execute_result"
    }
   ],
   "execution_count": 10
  },
  {
   "metadata": {},
   "cell_type": "markdown",
   "source": "## 문자열 출력을 위한 StrOutputParser 적용",
   "id": "80cf6a585b5f6a30"
  },
  {
   "metadata": {
    "ExecuteTime": {
     "end_time": "2024-06-08T15:11:01.813810Z",
     "start_time": "2024-06-08T15:11:01.007513Z"
    }
   },
   "cell_type": "code",
   "source": [
    "parser = StrOutputParser()\n",
    "result = model.invoke(messages)\n",
    "parser.invoke(result)"
   ],
   "id": "4fe52884d04dcdd8",
   "outputs": [
    {
     "data": {
      "text/plain": [
       "'안녕하세요'"
      ]
     },
     "execution_count": 11,
     "metadata": {},
     "output_type": "execute_result"
    }
   ],
   "execution_count": 11
  },
  {
   "metadata": {
    "ExecuteTime": {
     "end_time": "2024-06-08T15:11:02.230164Z",
     "start_time": "2024-06-08T15:11:01.815589Z"
    }
   },
   "cell_type": "code",
   "source": [
    "chain = model | parser\n",
    "chain.invoke(messages)"
   ],
   "id": "87674287d93caddd",
   "outputs": [
    {
     "data": {
      "text/plain": [
       "'안녕하세요'"
      ]
     },
     "execution_count": 12,
     "metadata": {},
     "output_type": "execute_result"
    }
   ],
   "execution_count": 12
  },
  {
   "metadata": {},
   "cell_type": "markdown",
   "source": "## ChatPromptTemplate 적용",
   "id": "7f38ad02458959d3"
  },
  {
   "metadata": {
    "ExecuteTime": {
     "end_time": "2024-06-08T15:11:02.242098Z",
     "start_time": "2024-06-08T15:11:02.232584Z"
    }
   },
   "cell_type": "code",
   "source": [
    "system_template = \"Translate the following from English into {lang}\"\n",
    "prompt_template = ChatPromptTemplate.from_messages(\n",
    "    [(\"system\", system_template), (\"user\", \"Result: {text}\")]\n",
    ")\n",
    "result = prompt_template.invoke({\"lang\": \"Korean\", \"text\": \"hi\"})\n",
    "result"
   ],
   "id": "fb1dc2722e117e56",
   "outputs": [
    {
     "data": {
      "text/plain": [
       "ChatPromptValue(messages=[SystemMessage(content='Translate the following from English into Korean'), HumanMessage(content='Result: hi')])"
      ]
     },
     "execution_count": 13,
     "metadata": {},
     "output_type": "execute_result"
    }
   ],
   "execution_count": 13
  },
  {
   "metadata": {
    "ExecuteTime": {
     "end_time": "2024-06-08T15:11:02.247133Z",
     "start_time": "2024-06-08T15:11:02.243378Z"
    }
   },
   "cell_type": "code",
   "source": "result.to_messages()",
   "id": "a559f06c1f007670",
   "outputs": [
    {
     "data": {
      "text/plain": [
       "[SystemMessage(content='Translate the following from English into Korean'),\n",
       " HumanMessage(content='Result: hi')]"
      ]
     },
     "execution_count": 14,
     "metadata": {},
     "output_type": "execute_result"
    }
   ],
   "execution_count": 14
  },
  {
   "metadata": {},
   "cell_type": "markdown",
   "source": "* chain 적용",
   "id": "fa895f1d4895f3cc"
  },
  {
   "metadata": {
    "ExecuteTime": {
     "end_time": "2024-06-08T15:11:02.945921Z",
     "start_time": "2024-06-08T15:11:02.248369Z"
    }
   },
   "cell_type": "code",
   "source": [
    "chain = prompt_template | model | parser\n",
    "chain.invoke({\"lang\": \"Korean\", \"text\": \"hi\"})"
   ],
   "id": "f9d2fcf896bb0962",
   "outputs": [
    {
     "data": {
      "text/plain": [
       "'결과: 안녕하세요'"
      ]
     },
     "execution_count": 15,
     "metadata": {},
     "output_type": "execute_result"
    }
   ],
   "execution_count": 15
  },
  {
   "metadata": {
    "ExecuteTime": {
     "end_time": "2024-06-08T15:11:04.279070Z",
     "start_time": "2024-06-08T15:11:02.948464Z"
    }
   },
   "cell_type": "code",
   "source": [
    "model.invoke(\n",
    "    [\n",
    "        HumanMessage(content=\"Hi! I'm Bob\"),\n",
    "        AIMessage(content=\"Hello Bob! How can I assist you today?\"),\n",
    "        HumanMessage(content=\"What's my name?\"),\n",
    "    ]\n",
    ")\n",
    "chain = model | parser\n",
    "chain.invoke(\n",
    "    [\n",
    "        HumanMessage(content=\"Hi! I'm Bob\"),\n",
    "        AIMessage(content=\"Hello Bob! How can I assist you today?\"),\n",
    "        HumanMessage(content=\"What's my name?\"),\n",
    "    ]\n",
    ")"
   ],
   "id": "b47736e99aaa176c",
   "outputs": [
    {
     "data": {
      "text/plain": [
       "'Your name is Bob. How can I help you, Bob?'"
      ]
     },
     "execution_count": 16,
     "metadata": {},
     "output_type": "execute_result"
    }
   ],
   "execution_count": 16
  }
 ],
 "metadata": {
  "kernelspec": {
   "display_name": "Python 3",
   "language": "python",
   "name": "python3"
  },
  "language_info": {
   "codemirror_mode": {
    "name": "ipython",
    "version": 2
   },
   "file_extension": ".py",
   "mimetype": "text/x-python",
   "name": "python",
   "nbconvert_exporter": "python",
   "pygments_lexer": "ipython2",
   "version": "2.7.6"
  }
 },
 "nbformat": 4,
 "nbformat_minor": 5
}
