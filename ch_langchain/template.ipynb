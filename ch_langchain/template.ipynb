{
 "cells": [
  {
   "cell_type": "markdown",
   "source": [
    "## Prompt"
   ],
   "metadata": {
    "collapsed": false
   }
  },
  {
   "cell_type": "code",
   "execution_count": 35,
   "outputs": [
    {
     "name": "stdout",
     "output_type": "stream",
     "text": [
      "왕십리의 유래에 대해서 알려줘\n",
      "부분 초기화 :  input_variables=['info'] output_parser=None partial_variables={'position': '서울'} template='{position}의 {info}에 대해서 알려줘' template_format='f-string' validate_template=True\n",
      "전체 :  서울의 위치에 대해서 알려줘\n"
     ]
    }
   ],
   "source": [
    "from langchain import PromptTemplate\n",
    "\n",
    "prompt = PromptTemplate(\n",
    "    input_variables=[\"position\", \"info\"], # 삭제 가능\n",
    "    template=\"{position}의 {info}에 대해서 알려줘\")\n",
    "msg = prompt.format(position=\"왕십리\", info=\"유래\")\n",
    "print(msg)\n",
    "\n",
    "# 부분 변수로 초기화할 수 있다.\n",
    "partial_template = prompt.partial(position=\"서울\")\n",
    "print(\"부분 초기화 : \", partial_template)\n",
    "print(\"전체 : \", partial_template.format(info=\"위치\"))"
   ],
   "metadata": {
    "collapsed": false,
    "ExecuteTime": {
     "start_time": "2023-07-09T14:33:14.508787Z",
     "end_time": "2023-07-09T14:33:14.512954Z"
    }
   }
  },
  {
   "cell_type": "markdown",
   "source": [
    "### MessagePromptTemplate"
   ],
   "metadata": {
    "collapsed": false
   }
  },
  {
   "cell_type": "code",
   "execution_count": 27,
   "outputs": [
    {
     "name": "stdout",
     "output_type": "stream",
     "text": [
      "[SystemMessage(content='당신은 영어을 한국어으로 번역해주는 봇입니다.', additional_kwargs={}), HumanMessage(content='I love programming', additional_kwargs={}, example=False)]\n"
     ]
    }
   ],
   "source": [
    "from langchain.prompts import (\n",
    "ChatPromptTemplate,\n",
    "ChatMessagePromptTemplate,\n",
    "SystemMessagePromptTemplate,\n",
    "AIMessagePromptTemplate,\n",
    "HumanMessagePromptTemplate\n",
    ")\n",
    "\n",
    "sys_prompt = SystemMessagePromptTemplate.from_template(\n",
    "    \"당신은 {input}을 {output}으로 번역해주는 봇입니다.\"\n",
    ")\n",
    "human_prompt = HumanMessagePromptTemplate.from_template(\"{text}\")\n",
    "chat_prompt = ChatPromptTemplate.from_messages([sys_prompt, human_prompt])\n",
    "msg = chat_prompt.format_prompt(\n",
    "    input=\"영어\",\n",
    "    output=\"한국어\",\n",
    "    text=\"I love programming\"\n",
    ").to_messages()\n",
    "print(msg)"
   ],
   "metadata": {
    "collapsed": false,
    "ExecuteTime": {
     "start_time": "2023-07-09T14:30:26.234525Z",
     "end_time": "2023-07-09T14:30:26.237799Z"
    }
   }
  },
  {
   "cell_type": "code",
   "execution_count": 21,
   "outputs": [
    {
     "data": {
      "text/plain": "ChatMessage(content='May the force be with you', additional_kwargs={}, role='Jedi')"
     },
     "execution_count": 21,
     "metadata": {},
     "output_type": "execute_result"
    }
   ],
   "source": [
    "chat_msg_prompt = ChatMessagePromptTemplate.from_template(\n",
    "    role=\"Jedi\",\n",
    "    template=\"May the {subject} be with you\"\n",
    ")\n",
    "chat_msg_prompt.format(subject=\"force\")"
   ],
   "metadata": {
    "collapsed": false,
    "ExecuteTime": {
     "start_time": "2023-07-09T14:27:15.519459Z",
     "end_time": "2023-07-09T14:27:15.524538Z"
    }
   }
  },
  {
   "cell_type": "code",
   "execution_count": 25,
   "outputs": [
    {
     "data": {
      "text/plain": "[HumanMessage(content='프로그래밍을 배우는 가장 좋은 방법은 무엇인가요?', additional_kwargs={}, example=False),\n AIMessage(content='1. 프로그래밍 언어를 선택합니다: 배우고 싶은 프로그래밍 언어를 결정합니다.\\n2. 기본부터 시작하세요: 변수, 데이터 유형, 제어 구조와 같은 기본 프로그래밍 개념을 익힙니다.\\n3. 연습: 프로그래밍을 배우는 가장 좋은 방법은 실습을 통한 경험입니다\\\\.\\n', additional_kwargs={}, example=False),\n HumanMessage(content='대화를 10자로 요약해줘', additional_kwargs={}, example=False)]"
     },
     "execution_count": 25,
     "metadata": {},
     "output_type": "execute_result"
    }
   ],
   "source": [
    "from langchain.prompts import MessagesPlaceholder\n",
    "from langchain.schema import HumanMessage, AIMessage\n",
    "\n",
    "human_msg_template = HumanMessagePromptTemplate.from_template(\n",
    "    \"대화를 {count}자로 요약해줘\"\n",
    ")\n",
    "chat_prompt = ChatPromptTemplate.from_messages([\n",
    "    MessagesPlaceholder(variable_name=\"conversation\"),\n",
    "    human_msg_template\n",
    "])\n",
    "human_message = HumanMessage(content=\"프로그래밍을 배우는 가장 좋은 방법은 무엇인가요?\")\n",
    "ai_message = AIMessage(content=\"\"\"\\\n",
    "1. 프로그래밍 언어를 선택합니다: 배우고 싶은 프로그래밍 언어를 결정합니다.\n",
    "2. 기본부터 시작하세요: 변수, 데이터 유형, 제어 구조와 같은 기본 프로그래밍 개념을 익힙니다.\n",
    "3. 연습: 프로그래밍을 배우는 가장 좋은 방법은 실습을 통한 경험입니다\\.\n",
    "\"\"\")\n",
    "\n",
    "chat_prompt.format_prompt(conversation=[human_message, ai_message], count=\"10\").to_messages()"
   ],
   "metadata": {
    "collapsed": false,
    "ExecuteTime": {
     "start_time": "2023-07-09T14:28:27.688719Z",
     "end_time": "2023-07-09T14:28:27.692012Z"
    }
   }
  },
  {
   "cell_type": "markdown",
   "source": [
    "### 조합"
   ],
   "metadata": {
    "collapsed": false
   }
  },
  {
   "cell_type": "code",
   "execution_count": 36,
   "outputs": [
    {
     "data": {
      "text/plain": "['example_a', 'person', 'input', 'example_q']"
     },
     "execution_count": 36,
     "metadata": {},
     "output_type": "execute_result"
    }
   ],
   "source": [
    "from langchain.prompts.pipeline import PipelinePromptTemplate\n",
    "from langchain.prompts import PromptTemplate\n",
    "\n",
    "intro_prompt = PromptTemplate.from_template(\"당신은 {person}입니다.\")\n",
    "example_prompt = PromptTemplate.from_template(\"\"\"\n",
    "다음은 대화의 예입니다.\n",
    "Q: {example_q}\n",
    "A: {example_a}\n",
    "\"\"\")\n",
    "start_prompt = PromptTemplate.from_template(\"\"\"\n",
    "Q: {input}\n",
    "A:\"\"\")\n",
    "\n",
    "pipeline_prompt = PipelinePromptTemplate(\n",
    "    final_prompt=PromptTemplate.from_template(\n",
    "        \"\"\"{introduction}\n",
    "        {example}\n",
    "        {start}\n",
    "        \"\"\"\n",
    "    ),\n",
    "    pipeline_prompts=[\n",
    "        (\"introduction\", intro_prompt),\n",
    "        (\"example\", example_prompt),\n",
    "        (\"start\", start_prompt)\n",
    "    ]\n",
    ")\n",
    "pipeline_prompt.input_variables"
   ],
   "metadata": {
    "collapsed": false,
    "ExecuteTime": {
     "start_time": "2023-07-09T14:45:26.601067Z",
     "end_time": "2023-07-09T14:45:26.615674Z"
    }
   }
  },
  {
   "cell_type": "code",
   "execution_count": 38,
   "outputs": [
    {
     "name": "stdout",
     "output_type": "stream",
     "text": [
      "당신은 일론 머스크입니다.\n",
      "        \n",
      "다음은 대화의 예입니다.\n",
      "Q: 당신이 제일 좋아하는 차는 뭔가요?\n",
      "A: 테슬라요\n",
      "\n",
      "        \n",
      "Q: 당신이 제일 좋아하는 SNS 서비스는 뭐죠?\n",
      "A:\n",
      "        \n"
     ]
    }
   ],
   "source": [
    "msg = pipeline_prompt.format(\n",
    "    person=\"일론 머스크\",\n",
    "    example_q=\"당신이 제일 좋아하는 차는 뭔가요?\",\n",
    "    example_a=\"테슬라요\",\n",
    "    input=\"당신이 제일 좋아하는 SNS 서비스는 뭐죠?\"\n",
    ")\n",
    "print(msg)"
   ],
   "metadata": {
    "collapsed": false,
    "ExecuteTime": {
     "start_time": "2023-07-09T14:47:26.703233Z",
     "end_time": "2023-07-09T14:47:26.710223Z"
    }
   }
  },
  {
   "cell_type": "markdown",
   "source": [
    "### 파일로 프롬프트 로드하기"
   ],
   "metadata": {
    "collapsed": false
   }
  },
  {
   "cell_type": "code",
   "execution_count": 40,
   "outputs": [
    {
     "name": "stdout",
     "output_type": "stream",
     "text": [
      "['author', 'book']\n"
     ]
    },
    {
     "data": {
      "text/plain": "'아이작 아시모프 작가의 파운데이션에 대해서 알려줘'"
     },
     "execution_count": 40,
     "metadata": {},
     "output_type": "execute_result"
    }
   ],
   "source": [
    "from langchain.prompts import load_prompt\n",
    "\n",
    "prompt = load_prompt(\"./data/my_prompt.json\")\n",
    "print(prompt.input_variables)\n",
    "prompt.format(author=\"아이작 아시모프\", book=\"파운데이션\")"
   ],
   "metadata": {
    "collapsed": false,
    "ExecuteTime": {
     "start_time": "2023-07-09T14:54:05.848443Z",
     "end_time": "2023-07-09T14:54:05.853357Z"
    }
   }
  },
  {
   "cell_type": "code",
   "execution_count": null,
   "outputs": [],
   "source": [],
   "metadata": {
    "collapsed": false
   }
  }
 ],
 "metadata": {
  "kernelspec": {
   "display_name": "Python 3",
   "language": "python",
   "name": "python3"
  },
  "language_info": {
   "codemirror_mode": {
    "name": "ipython",
    "version": 2
   },
   "file_extension": ".py",
   "mimetype": "text/x-python",
   "name": "python",
   "nbconvert_exporter": "python",
   "pygments_lexer": "ipython2",
   "version": "2.7.6"
  }
 },
 "nbformat": 4,
 "nbformat_minor": 0
}
