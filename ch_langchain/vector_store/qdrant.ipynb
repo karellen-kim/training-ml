{
 "cells": [
  {
   "metadata": {},
   "cell_type": "markdown",
   "source": "## Qdrant",
   "id": "13cd1c8a2082611c"
  },
  {
   "metadata": {
    "ExecuteTime": {
     "end_time": "2024-06-20T14:38:35.566737Z",
     "start_time": "2024-06-20T14:38:35.560659Z"
    }
   },
   "cell_type": "code",
   "source": [
    "import os\n",
    "import requests\n",
    "from dotenv import load_dotenv\n",
    "from langchain_qdrant import Qdrant\n",
    "from langchain_community.embeddings.huggingface import HuggingFaceEmbeddings\n",
    "from tqdm.autonotebook import tqdm\n",
    "\n",
    "load_dotenv()"
   ],
   "id": "6072eb796ec149d6",
   "outputs": [
    {
     "data": {
      "text/plain": [
       "True"
      ]
     },
     "execution_count": 4,
     "metadata": {},
     "output_type": "execute_result"
    }
   ],
   "execution_count": 4
  },
  {
   "metadata": {},
   "cell_type": "markdown",
   "source": "## 접속 테스트",
   "id": "1a04f444875bd131"
  },
  {
   "metadata": {
    "ExecuteTime": {
     "end_time": "2024-06-20T14:42:58.037759Z",
     "start_time": "2024-06-20T14:42:57.420737Z"
    }
   },
   "cell_type": "code",
   "source": [
    "QDRANT_API = os.getenv(\"QDRANT_API\")\n",
    "QDRANT_API_KEY = os.getenv(\"QDRANT_API_KEY\")\n",
    "\n",
    "requests.get(QDRANT_API, headers={'api-key' : QDRANT_API_KEY}).json()"
   ],
   "id": "14cfc4ae8c27002b",
   "outputs": [
    {
     "data": {
      "text/plain": [
       "{'title': 'qdrant - vector search engine',\n",
       " 'version': '1.9.4',\n",
       " 'commit': '671cf97bc27ac2d6f5c35bf5d4a20afad43291b3'}"
      ]
     },
     "execution_count": 9,
     "metadata": {},
     "output_type": "execute_result"
    }
   ],
   "execution_count": 9
  },
  {
   "metadata": {},
   "cell_type": "markdown",
   "source": "* collection 생성하기 ",
   "id": "a19387143482eb9e"
  },
  {
   "metadata": {
    "ExecuteTime": {
     "end_time": "2024-06-20T14:50:19.491047Z",
     "start_time": "2024-06-20T14:50:18.667045Z"
    }
   },
   "cell_type": "code",
   "source": [
    "from qdrant_client import QdrantClient\n",
    "from qdrant_client.models import Distance, VectorParams\n",
    "\n",
    "client = QdrantClient(url=QDRANT_API, api_key=QDRANT_API_KEY)\n",
    "client.create_collection(\n",
    "    collection_name=\"test_collection\",\n",
    "    vectors_config=VectorParams(size=128, distance=Distance.COSINE),\n",
    ")"
   ],
   "id": "b9a50fb5c9feec14",
   "outputs": [
    {
     "data": {
      "text/plain": [
       "True"
      ]
     },
     "execution_count": 11,
     "metadata": {},
     "output_type": "execute_result"
    }
   ],
   "execution_count": 11
  },
  {
   "metadata": {},
   "cell_type": "code",
   "outputs": [],
   "execution_count": null,
   "source": "",
   "id": "de066ed0bbbb4911"
  }
 ],
 "metadata": {
  "kernelspec": {
   "display_name": "Python 3",
   "language": "python",
   "name": "python3"
  },
  "language_info": {
   "codemirror_mode": {
    "name": "ipython",
    "version": 2
   },
   "file_extension": ".py",
   "mimetype": "text/x-python",
   "name": "python",
   "nbconvert_exporter": "python",
   "pygments_lexer": "ipython2",
   "version": "2.7.6"
  }
 },
 "nbformat": 4,
 "nbformat_minor": 5
}
