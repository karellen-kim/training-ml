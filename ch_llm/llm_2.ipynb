{
  "nbformat": 4,
  "nbformat_minor": 0,
  "metadata": {
    "colab": {
      "provenance": [],
      "authorship_tag": "ABX9TyMylTFtACNaFRCDREtbPpME",
      "include_colab_link": true
    },
    "kernelspec": {
      "name": "python3",
      "display_name": "Python 3"
    },
    "language_info": {
      "name": "python"
    }
  },
  "cells": [
    {
      "cell_type": "markdown",
      "metadata": {
        "id": "view-in-github",
        "colab_type": "text"
      },
      "source": [
        "<a href=\"https://colab.research.google.com/github/karellen-kim/training-ml/blob/main/ch_llm/llm_2.ipynb\" target=\"_parent\"><img src=\"https://colab.research.google.com/assets/colab-badge.svg\" alt=\"Open In Colab\"/></a>"
      ]
    },
    {
      "cell_type": "markdown",
      "source": [
        "## 토큰화\n",
        "* 문장을 토큰화 하기"
      ],
      "metadata": {
        "id": "DLbabNIVQ1M-"
      }
    },
    {
      "cell_type": "code",
      "execution_count": null,
      "metadata": {
        "colab": {
          "base_uri": "https://localhost:8080/"
        },
        "id": "O6U6BLWpMYcz",
        "outputId": "66858f3b-b9ed-432c-b40a-271a24db28d2"
      },
      "outputs": [
        {
          "output_type": "execute_result",
          "data": {
            "text/plain": [
              "['나는', '어제', '속초로', '여행을', '다녀왔다.', '재밌는', '여행이었다.', '오늘', '집에서', '쉰다.']"
            ]
          },
          "metadata": {},
          "execution_count": 23
        }
      ],
      "source": [
        "input_text = \"나는 어제 속초로 여행을 다녀왔다. 재밌는 여행이었다. 오늘 집에서 쉰다.\"\n",
        "input_text_list = input_text.split()\n",
        "input_text_list"
      ]
    },
    {
      "cell_type": "code",
      "source": [
        "str2idx = { w:idx for idx, w in enumerate(input_text_list) }\n",
        "str2idx"
      ],
      "metadata": {
        "colab": {
          "base_uri": "https://localhost:8080/"
        },
        "id": "2mdyK8wKPmWI",
        "outputId": "9cd2e55e-1361-4ced-b35e-b564d9595f4b"
      },
      "execution_count": null,
      "outputs": [
        {
          "output_type": "execute_result",
          "data": {
            "text/plain": [
              "{'나는': 0,\n",
              " '어제': 1,\n",
              " '속초로': 2,\n",
              " '여행을': 3,\n",
              " '다녀왔다.': 4,\n",
              " '재밌는': 5,\n",
              " '여행이었다.': 6,\n",
              " '오늘': 7,\n",
              " '집에서': 8,\n",
              " '쉰다.': 9}"
            ]
          },
          "metadata": {},
          "execution_count": 21
        }
      ]
    },
    {
      "cell_type": "code",
      "source": [
        "str = \"나는 오늘 재밌는 여행을 다녀왔다.\"\n",
        "ids = [str2idx[w] for w in str.split()]\n",
        "ids"
      ],
      "metadata": {
        "colab": {
          "base_uri": "https://localhost:8080/"
        },
        "id": "vg7JQyB7P3Wh",
        "outputId": "12821bd4-bb53-496c-9e3c-7bb466cf7583"
      },
      "execution_count": null,
      "outputs": [
        {
          "output_type": "execute_result",
          "data": {
            "text/plain": [
              "[0, 7, 5, 3, 4]"
            ]
          },
          "metadata": {},
          "execution_count": 33
        }
      ]
    },
    {
      "cell_type": "code",
      "source": [
        "#ids = [str2idx[w] for w in input_text.split()]\n",
        "#ids"
      ],
      "metadata": {
        "colab": {
          "base_uri": "https://localhost:8080/"
        },
        "id": "r4G-k3niQH3W",
        "outputId": "5db10e00-f5a7-4821-8ffa-9ddbc45e151f"
      },
      "execution_count": null,
      "outputs": [
        {
          "output_type": "execute_result",
          "data": {
            "text/plain": [
              "[0, 1, 2, 3, 4, 5, 6, 7, 8, 9]"
            ]
          },
          "metadata": {},
          "execution_count": 31
        }
      ]
    },
    {
      "cell_type": "markdown",
      "source": [
        "## 토큰 아이디에서 벡터로 변환\n",
        "* 단어-인덱스 dictionary 생성 `str2idx`\n",
        "* 딕셔너리의 각 단어마다 랜덤한 16차원의 float값을 생성 `nn.Embedding(len(str2idx), embedding_dim=16)`\n",
        "* 병렬 처리를 위해 0차원에 차원 추가 `input_embeddings.unsqueeze(0)`"
      ],
      "metadata": {
        "id": "DE-fDpiQRE83"
      }
    },
    {
      "cell_type": "code",
      "source": [
        "import torch\n",
        "import torch.nn as nn\n",
        "\n",
        "embedding_layer = nn.Embedding(len(str2idx), embedding_dim=16)\n",
        "input_embeddings = embedding_layer(torch.tensor(ids))\n",
        "print(input_embeddings.shape)\n",
        "\n",
        "# 0번째 차원에 새로운 차원 추가 주로 병렬 처리를 위해 추가한다\n",
        "input_embeddings = input_embeddings.unsqueeze(0)\n",
        "print(input_embeddings.shape)\n",
        "\n",
        "input_embeddings"
      ],
      "metadata": {
        "colab": {
          "base_uri": "https://localhost:8080/"
        },
        "id": "pf916l8xRLTY",
        "outputId": "2e7906ae-b7f2-4a06-9a51-f8e37d8d128a"
      },
      "execution_count": null,
      "outputs": [
        {
          "output_type": "stream",
          "name": "stdout",
          "text": [
            "torch.Size([5, 16])\n",
            "torch.Size([1, 5, 16])\n"
          ]
        },
        {
          "output_type": "execute_result",
          "data": {
            "text/plain": [
              "tensor([[[ 1.0623, -1.2015, -0.6486,  0.1697, -0.8028, -0.0861, -1.5557,\n",
              "           0.8274, -0.5433, -0.1781,  2.2232, -0.0868,  0.8579,  0.3527,\n",
              "           0.7856,  0.7910],\n",
              "         [-0.2970,  0.4086,  0.5493,  0.6514, -0.9024, -1.6573,  1.9237,\n",
              "           0.2415, -0.0776, -0.0107, -1.0636, -0.3335, -0.4237,  0.4794,\n",
              "           0.0113,  0.0694],\n",
              "         [-0.9120,  0.9568, -0.1723,  0.3693,  0.4007,  1.0778, -0.1137,\n",
              "           0.7133, -0.0346,  0.3714, -0.8748,  0.0088,  1.1299,  2.0274,\n",
              "          -1.0141, -1.0822],\n",
              "         [-0.9194,  1.2656,  0.8931, -1.3339,  0.8586,  1.7780, -1.7711,\n",
              "          -0.3740, -0.4925,  0.8858, -0.6964,  1.0770, -0.8550, -0.8857,\n",
              "           0.4173, -0.3434],\n",
              "         [ 0.4448,  0.0849, -1.3373,  0.4994, -0.1252, -1.0125, -0.0324,\n",
              "           2.2204,  0.1055, -1.4137, -1.2198,  0.6027, -1.7297,  0.1856,\n",
              "           0.3026, -0.5708]]], grad_fn=<UnsqueezeBackward0>)"
            ]
          },
          "metadata": {},
          "execution_count": 38
        }
      ]
    },
    {
      "cell_type": "markdown",
      "source": [
        "## 위치 인코딩 생성\n",
        "* transformer 기반 모델에서 사용하는 방식"
      ],
      "metadata": {
        "id": "U0lmNK2PrtZN"
      }
    },
    {
      "cell_type": "code",
      "source": [],
      "metadata": {
        "id": "d6s4OOJ5rwUN"
      },
      "execution_count": null,
      "outputs": []
    }
  ]
}