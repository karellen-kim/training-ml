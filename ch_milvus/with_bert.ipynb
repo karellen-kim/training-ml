{
 "cells": [
  {
   "cell_type": "markdown",
   "source": [
    "## 전처리"
   ],
   "metadata": {
    "collapsed": false
   }
  },
  {
   "cell_type": "code",
   "execution_count": 1,
   "outputs": [
    {
     "name": "stderr",
     "output_type": "stream",
     "text": [
      "/var/folders/yv/z9fdg8sd36x4jfwfzp1463xh0000gq/T/ipykernel_21894/3029125766.py:4: DtypeWarning: Columns (10) have mixed types. Specify dtype option on import or set low_memory=False.\n",
      "  movies = pd.read_csv('./data/movies_metadata.csv')[['id', 'title', 'genres', 'vote_average']]\n"
     ]
    },
    {
     "data": {
      "text/plain": "      id                        title                      genres   \n0    862                    Toy Story   Animation, Comedy, Family  \\\n1   8844                      Jumanji  Adventure, Fantasy, Family   \n2  15602             Grumpier Old Men             Romance, Comedy   \n3  31357            Waiting to Exhale      Comedy, Drama, Romance   \n4  11862  Father of the Bride Part II                      Comedy   \n\n   vote_average  \n0           7.7  \n1           6.9  \n2           6.5  \n3           6.1  \n4           5.7  ",
      "text/html": "<div>\n<style scoped>\n    .dataframe tbody tr th:only-of-type {\n        vertical-align: middle;\n    }\n\n    .dataframe tbody tr th {\n        vertical-align: top;\n    }\n\n    .dataframe thead th {\n        text-align: right;\n    }\n</style>\n<table border=\"1\" class=\"dataframe\">\n  <thead>\n    <tr style=\"text-align: right;\">\n      <th></th>\n      <th>id</th>\n      <th>title</th>\n      <th>genres</th>\n      <th>vote_average</th>\n    </tr>\n  </thead>\n  <tbody>\n    <tr>\n      <th>0</th>\n      <td>862</td>\n      <td>Toy Story</td>\n      <td>Animation, Comedy, Family</td>\n      <td>7.7</td>\n    </tr>\n    <tr>\n      <th>1</th>\n      <td>8844</td>\n      <td>Jumanji</td>\n      <td>Adventure, Fantasy, Family</td>\n      <td>6.9</td>\n    </tr>\n    <tr>\n      <th>2</th>\n      <td>15602</td>\n      <td>Grumpier Old Men</td>\n      <td>Romance, Comedy</td>\n      <td>6.5</td>\n    </tr>\n    <tr>\n      <th>3</th>\n      <td>31357</td>\n      <td>Waiting to Exhale</td>\n      <td>Comedy, Drama, Romance</td>\n      <td>6.1</td>\n    </tr>\n    <tr>\n      <th>4</th>\n      <td>11862</td>\n      <td>Father of the Bride Part II</td>\n      <td>Comedy</td>\n      <td>5.7</td>\n    </tr>\n  </tbody>\n</table>\n</div>"
     },
     "execution_count": 1,
     "metadata": {},
     "output_type": "execute_result"
    }
   ],
   "source": [
    "import pandas as pd\n",
    "from ast import literal_eval\n",
    "\n",
    "movies = pd.read_csv('./data/movies_metadata.csv')[['id', 'title', 'genres', 'vote_average']]\n",
    "movies['genres'] = movies['genres'].apply(literal_eval).apply(lambda genres : ', '.join([g['name'] for g in genres]))\n",
    "movies.head(5)"
   ],
   "metadata": {
    "collapsed": false,
    "ExecuteTime": {
     "start_time": "2023-05-24T01:59:46.426289Z",
     "end_time": "2023-05-24T01:59:48.121271Z"
    }
   }
  },
  {
   "cell_type": "markdown",
   "source": [
    "## Embedding"
   ],
   "metadata": {
    "collapsed": false
   }
  },
  {
   "cell_type": "code",
   "execution_count": null,
   "outputs": [],
   "source": [
    "import torch\n",
    "from sentence_transformers import SentenceTransformer\n",
    "\n",
    "device = torch.device('mps') if torch.cuda.is_available() else torch.device('cpu')\n",
    "sbert_model_name = \"jhgan/ko-sroberta-multitask\"\n",
    "model = SentenceTransformer(sbert_model_name).to(device=device)\n",
    "embeddings = model.encode(sentences, convert_to_numpy=True)"
   ],
   "metadata": {
    "collapsed": false
   }
  },
  {
   "cell_type": "code",
   "execution_count": null,
   "outputs": [],
   "source": [
    "from milvus import default_server\n",
    "from pymilvus import (\n",
    "    connections,\n",
    "    utility,\n",
    "    FieldSchema,\n",
    "    CollectionSchema,\n",
    "    DataType,\n",
    "    Collection,\n",
    ")\n",
    "from sentence_transformers import SentenceTransformer\n",
    "\n",
    "with default_server:\n",
    "    default_server.set_base_dir('milvus_data')\n",
    "\n",
    "    # 서버 연결\n",
    "    connections.connect(host='127.0.0.1', port=default_server.listen_port)\n",
    "\n",
    "    fields = [\n",
    "        FieldSchema(name=\"pk\", dtype=DataType.INT64, is_primary=True, auto_id=False),\n",
    "        FieldSchema(name=\"title\", dtype=DataType.VARCHAR),\n",
    "        FieldSchema(name=\"genres\", dtype=DataType.VARCHAR),\n",
    "        FieldSchema(name=\"vote_average\", dtype=DataType.DOUBLE),\n",
    "        FieldSchema(name=\"embeddings\", dtype=DataType.FLOAT_VECTOR, dim=8)\n",
    "    ]\n",
    "    schema = CollectionSchema(fields, \"movie\")\n",
    "    hello_milvus = Collection(\"movie\", schema)\n",
    "\n",
    "    model = SentenceTransformer('jhgan/ko-sroberta-multitask')"
   ],
   "metadata": {
    "collapsed": false,
    "pycharm": {
     "is_executing": true
    }
   }
  },
  {
   "cell_type": "code",
   "execution_count": null,
   "outputs": [],
   "source": [],
   "metadata": {
    "collapsed": false,
    "pycharm": {
     "is_executing": true
    }
   }
  }
 ],
 "metadata": {
  "kernelspec": {
   "display_name": "Python 3",
   "language": "python",
   "name": "python3"
  },
  "language_info": {
   "codemirror_mode": {
    "name": "ipython",
    "version": 2
   },
   "file_extension": ".py",
   "mimetype": "text/x-python",
   "name": "python",
   "nbconvert_exporter": "python",
   "pygments_lexer": "ipython2",
   "version": "2.7.6"
  }
 },
 "nbformat": 4,
 "nbformat_minor": 0
}
