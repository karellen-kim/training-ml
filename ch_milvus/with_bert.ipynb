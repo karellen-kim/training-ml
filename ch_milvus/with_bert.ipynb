{
 "cells": [
  {
   "cell_type": "markdown",
   "metadata": {
    "jupyter": {
     "outputs_hidden": false
    }
   },
   "source": [
    "## 전처리"
   ]
  },
  {
   "cell_type": "code",
   "execution_count": 123,
   "metadata": {
    "ExecuteTime": {
     "end_time": "2023-05-27T01:39:06.407372Z",
     "start_time": "2023-05-27T01:39:06.377471Z"
    },
    "jupyter": {
     "outputs_hidden": false
    }
   },
   "outputs": [
    {
     "data": {
      "text/html": [
       "<div>\n",
       "<style scoped>\n",
       "    .dataframe tbody tr th:only-of-type {\n",
       "        vertical-align: middle;\n",
       "    }\n",
       "\n",
       "    .dataframe tbody tr th {\n",
       "        vertical-align: top;\n",
       "    }\n",
       "\n",
       "    .dataframe thead th {\n",
       "        text-align: right;\n",
       "    }\n",
       "</style>\n",
       "<table border=\"1\" class=\"dataframe\">\n",
       "  <thead>\n",
       "    <tr style=\"text-align: right;\">\n",
       "      <th></th>\n",
       "      <th>id</th>\n",
       "      <th>title</th>\n",
       "      <th>genres</th>\n",
       "      <th>vote_average</th>\n",
       "    </tr>\n",
       "  </thead>\n",
       "  <tbody>\n",
       "    <tr>\n",
       "      <th>0</th>\n",
       "      <td>862</td>\n",
       "      <td>Toy Story</td>\n",
       "      <td>Animation, Comedy, Family</td>\n",
       "      <td>7.7</td>\n",
       "    </tr>\n",
       "    <tr>\n",
       "      <th>1</th>\n",
       "      <td>8844</td>\n",
       "      <td>Jumanji</td>\n",
       "      <td>Adventure, Fantasy, Family</td>\n",
       "      <td>6.9</td>\n",
       "    </tr>\n",
       "    <tr>\n",
       "      <th>2</th>\n",
       "      <td>15602</td>\n",
       "      <td>Grumpier Old Men</td>\n",
       "      <td>Romance, Comedy</td>\n",
       "      <td>6.5</td>\n",
       "    </tr>\n",
       "  </tbody>\n",
       "</table>\n",
       "</div>"
      ],
      "text/plain": [
       "      id             title                      genres  vote_average\n",
       "0    862         Toy Story   Animation, Comedy, Family           7.7\n",
       "1   8844           Jumanji  Adventure, Fantasy, Family           6.9\n",
       "2  15602  Grumpier Old Men             Romance, Comedy           6.5"
      ]
     },
     "execution_count": 123,
     "metadata": {},
     "output_type": "execute_result"
    }
   ],
   "source": [
    "import pandas as pd\n",
    "from ast import literal_eval\n",
    "\n",
    "movies = pd.read_csv('./data/movies_metadata.csv', nrows=30)[['id', 'title', 'genres', 'vote_average']]\n",
    "movies['genres'] = movies['genres'].apply(literal_eval).apply(lambda genres : ', '.join([g['name'] for g in genres]))\n",
    "movies['id'] = movies['id'].astype(int)\n",
    "movies.head(3)"
   ]
  },
  {
   "cell_type": "markdown",
   "metadata": {
    "jupyter": {
     "outputs_hidden": false
    }
   },
   "source": [
    "## Embedding"
   ]
  },
  {
   "cell_type": "code",
   "execution_count": 124,
   "metadata": {
    "ExecuteTime": {
     "end_time": "2023-05-27T01:39:07.427937Z",
     "start_time": "2023-05-27T01:39:06.380609Z"
    },
    "jupyter": {
     "outputs_hidden": false
    }
   },
   "outputs": [
    {
     "data": {
      "application/vnd.jupyter.widget-view+json": {
       "model_id": "a0c097984a204a81a24f1a99dfc1761a",
       "version_major": 2,
       "version_minor": 0
      },
      "text/plain": [
       "Batches:   0%|          | 0/1 [00:00<?, ?it/s]"
      ]
     },
     "metadata": {},
     "output_type": "display_data"
    }
   ],
   "source": [
    "import torch\n",
    "from sentence_transformers import SentenceTransformer\n",
    "\n",
    "device = torch.device('mps') if torch.backends.mps.is_available() else torch.device('cpu')\n",
    "model = SentenceTransformer(\"jhgan/ko-sroberta-multitask\").to(device=device)\n",
    "\n",
    "embeddings = model.encode(movies['title'], convert_to_numpy=True, show_progress_bar=True)"
   ]
  },
  {
   "cell_type": "markdown",
   "metadata": {
    "jupyter": {
     "outputs_hidden": false
    }
   },
   "source": [
    "* embedding 컬럼 추가"
   ]
  },
  {
   "cell_type": "code",
   "execution_count": 125,
   "metadata": {
    "ExecuteTime": {
     "end_time": "2023-05-27T01:39:07.434025Z",
     "start_time": "2023-05-27T01:39:06.389062Z"
    },
    "jupyter": {
     "outputs_hidden": false
    }
   },
   "outputs": [
    {
     "data": {
      "text/html": [
       "<div>\n",
       "<style scoped>\n",
       "    .dataframe tbody tr th:only-of-type {\n",
       "        vertical-align: middle;\n",
       "    }\n",
       "\n",
       "    .dataframe tbody tr th {\n",
       "        vertical-align: top;\n",
       "    }\n",
       "\n",
       "    .dataframe thead th {\n",
       "        text-align: right;\n",
       "    }\n",
       "</style>\n",
       "<table border=\"1\" class=\"dataframe\">\n",
       "  <thead>\n",
       "    <tr style=\"text-align: right;\">\n",
       "      <th></th>\n",
       "      <th>id</th>\n",
       "      <th>title</th>\n",
       "      <th>genres</th>\n",
       "      <th>vote_average</th>\n",
       "      <th>embeddings</th>\n",
       "    </tr>\n",
       "  </thead>\n",
       "  <tbody>\n",
       "    <tr>\n",
       "      <th>0</th>\n",
       "      <td>862</td>\n",
       "      <td>Toy Story</td>\n",
       "      <td>Animation, Comedy, Family</td>\n",
       "      <td>7.7</td>\n",
       "      <td>[0.09099487215280533, -0.518666684627533, -0.3...</td>\n",
       "    </tr>\n",
       "    <tr>\n",
       "      <th>1</th>\n",
       "      <td>8844</td>\n",
       "      <td>Jumanji</td>\n",
       "      <td>Adventure, Fantasy, Family</td>\n",
       "      <td>6.9</td>\n",
       "      <td>[0.3581549823284149, 0.09385906904935837, 0.45...</td>\n",
       "    </tr>\n",
       "    <tr>\n",
       "      <th>2</th>\n",
       "      <td>15602</td>\n",
       "      <td>Grumpier Old Men</td>\n",
       "      <td>Romance, Comedy</td>\n",
       "      <td>6.5</td>\n",
       "      <td>[-0.09264998883008957, -0.34356689453125, 0.47...</td>\n",
       "    </tr>\n",
       "  </tbody>\n",
       "</table>\n",
       "</div>"
      ],
      "text/plain": [
       "      id             title                      genres  vote_average   \n",
       "0    862         Toy Story   Animation, Comedy, Family           7.7  \\\n",
       "1   8844           Jumanji  Adventure, Fantasy, Family           6.9   \n",
       "2  15602  Grumpier Old Men             Romance, Comedy           6.5   \n",
       "\n",
       "                                          embeddings  \n",
       "0  [0.09099487215280533, -0.518666684627533, -0.3...  \n",
       "1  [0.3581549823284149, 0.09385906904935837, 0.45...  \n",
       "2  [-0.09264998883008957, -0.34356689453125, 0.47...  "
      ]
     },
     "execution_count": 125,
     "metadata": {},
     "output_type": "execute_result"
    }
   ],
   "source": [
    "movies['embeddings'] = embeddings.tolist()\n",
    "movies.head(3)"
   ]
  },
  {
   "cell_type": "markdown",
   "metadata": {
    "jupyter": {
     "outputs_hidden": false
    }
   },
   "source": [
    "* dimension 체크"
   ]
  },
  {
   "cell_type": "code",
   "execution_count": 131,
   "metadata": {
    "ExecuteTime": {
     "end_time": "2023-05-27T01:39:07.437276Z",
     "start_time": "2023-05-27T01:39:06.391582Z"
    },
    "jupyter": {
     "outputs_hidden": false
    }
   },
   "outputs": [
    {
     "data": {
      "text/plain": [
       "(30,)"
      ]
     },
     "execution_count": 131,
     "metadata": {},
     "output_type": "execute_result"
    }
   ],
   "source": [
    "movies['embeddings'].shape"
   ]
  },
  {
   "cell_type": "markdown",
   "metadata": {
    "jupyter": {
     "outputs_hidden": false
    }
   },
   "source": [
    "## 콜렉션 생성\n",
    "* Collection : RDB의 Table과 비슷. 하나 이상의 파티션으로 구성. 기본적으로 단일 컬렉션에는 두 개의 샤드가 포함된다.\n",
    "* DataType 및 속성 : https://milvus.io/docs/create_collection.md"
   ]
  },
  {
   "cell_type": "code",
   "execution_count": 132,
   "metadata": {
    "ExecuteTime": {
     "end_time": "2023-05-27T01:40:36.892991Z",
     "start_time": "2023-05-27T01:40:36.879532Z"
    },
    "jupyter": {
     "outputs_hidden": false
    }
   },
   "outputs": [],
   "source": [
    "from pymilvus import FieldSchema, CollectionSchema, DataType\n",
    "\n",
    "def init_schema() -> CollectionSchema :\n",
    "    fields = [\n",
    "        FieldSchema(name=\"id\", dtype=DataType.INT64, is_primary=True, auto_id=False),\n",
    "        FieldSchema(name=\"title\", dtype=DataType.VARCHAR, max_length=256),\n",
    "        FieldSchema(name=\"genres\", dtype=DataType.VARCHAR, max_length=256),\n",
    "        FieldSchema(name=\"vote_average\", dtype=DataType.DOUBLE),\n",
    "        FieldSchema(name=\"embeddings\", dtype=DataType.FLOAT_VECTOR, dim=768) # dim 벡터 차원\n",
    "    ]\n",
    "    return CollectionSchema(fields, \"movie\")"
   ]
  },
  {
   "cell_type": "markdown",
   "metadata": {
    "jupyter": {
     "outputs_hidden": false
    }
   },
   "source": [
    "##  Milvus에 데이터 추가"
   ]
  },
  {
   "cell_type": "code",
   "execution_count": null,
   "metadata": {
    "ExecuteTime": {
     "end_time": "2023-05-27T01:13:06.320829Z",
     "start_time": "2023-05-27T01:12:54.550812Z"
    },
    "jupyter": {
     "outputs_hidden": false
    }
   },
   "outputs": [
    {
     "name": "stdout",
     "output_type": "stream",
     "text": [
      "huggingface/tokenizers: The current process just got forked, after parallelism has already been used. Disabling parallelism to avoid deadlocks...\n",
      "To disable this warning, you can either:\n",
      "\t- Avoid using `tokenizers` before the fork if possible\n",
      "\t- Explicitly set the environment variable TOKENIZERS_PARALLELISM=(true | false)\n",
      "\n",
      "\n",
      "    __  _________ _   ____  ______\n",
      "   /  |/  /  _/ /| | / / / / / __/\n",
      "  / /|_/ // // /_| |/ / /_/ /\\ \\\n",
      " /_/  /_/___/____/___/\\____/___/ {Lite}\n",
      "\n",
      " Welcome to use Milvus!\n",
      "\n",
      " Version:   v2.2.8-lite\n",
      " Process:   65678\n",
      " Started:   2023-05-27 02:06:08\n",
      " Config:    /Users/eunmi.kim/source/study/training-ml/ch_milvus/milvus_data/configs/milvus.yaml\n",
      " Logs:      /Users/eunmi.kim/source/study/training-ml/ch_milvus/milvus_data/logs\n",
      "\n",
      " Ctrl+C to exit ...\n",
      "['[\"id: 862, distance: 15.68191909790039, entity: {\\'id\\': 862, \\'title\\': \\'Toy Story\\'}\", \"id: 31357, distance: 138.7854461669922, entity: {\\'id\\': 31357, \\'title\\': \\'Waiting to Exhale\\'}\", \"id: 45325, distance: 162.78607177734375, entity: {\\'id\\': 45325, \\'title\\': \\'Tom and Huck\\'}\"]']\n"
     ]
    }
   ],
   "source": [
    "from milvus import default_server\n",
    "from pymilvus import connections, Collection, utility\n",
    "\n",
    "with default_server:\n",
    "    default_server.set_base_dir('milvus_data')\n",
    "\n",
    "    # 서버 연결\n",
    "    connections.connect(host='127.0.0.1', port=default_server.listen_port)\n",
    "\n",
    "    schema = init_schema()\n",
    "    utility.drop_collection(\"movie\")\n",
    "\n",
    "    # 컬렉션 생성\n",
    "    collection = Collection(\"movie\",\n",
    "                          schema,\n",
    "                          using=\"default\", # 서버 별칭을 사용하여 컬렉션을 생성할 서버명을 지정 가능\n",
    "                          shards_num=2 # 샤드 수\n",
    "                          )\n",
    "\n",
    "    # 데이터 삽입\n",
    "    collection.insert(movies)\n",
    "    collection.flush() # 세그먼트는 특정 크기 이상이어야 sealed 됨. 강제로 sealed하여 인덱싱\n",
    "\n",
    "    # 색인 저장\n",
    "    index = {\n",
    "        \"index_type\": \"IVF_FLAT\", # 벡터 검색 가속화 설정\n",
    "        \"metric_type\": \"L2\", # 벡터의 유사성을 측정하는 메트릭 유형 L2는 유클리드 거리\n",
    "        \"params\": {\"nlist\": 128 } # IVF_FLAT는 벡터를 nlist클러스터 단위로 나누고 입력 벡터와 각 클러스터 중심 간의 거리를 비교\n",
    "    }\n",
    "    collection.create_index(\"embeddings\", index)\n",
    "\n",
    "    # 메모리 로드\n",
    "    collection.load()\n",
    "    q = model.encode(\"toy story\")\n",
    "    search_params = {\n",
    "        \"metric_type\": \"L2\",\n",
    "        \"params\": {\"nprobe\": 10 } \n",
    "    }\n",
    "    results = collection.search(data=[q], \n",
    "                                anns_field=\"embeddings\", # 검색 대상\n",
    "                                param=search_params, \n",
    "                                limit=3, \n",
    "                                output_fields=[\"id\", \"title\"], # 출력 필드\n",
    "                                consistency_level=\"Strong\" # 검색의 일관성 수준\n",
    "                               )\n",
    "    print(results)"
   ]
  },
  {
   "cell_type": "markdown",
   "metadata": {
    "jupyter": {
     "outputs_hidden": false
    }
   },
   "source": []
  }
 ],
 "metadata": {
  "kernelspec": {
   "display_name": "Python 3 (ipykernel)",
   "language": "python",
   "name": "python3"
  },
  "language_info": {
   "codemirror_mode": {
    "name": "ipython",
    "version": 3
   },
   "file_extension": ".py",
   "mimetype": "text/x-python",
   "name": "python",
   "nbconvert_exporter": "python",
   "pygments_lexer": "ipython3",
   "version": "3.10.10"
  }
 },
 "nbformat": 4,
 "nbformat_minor": 4
}
