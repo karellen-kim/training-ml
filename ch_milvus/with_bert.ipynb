{
 "cells": [
  {
   "cell_type": "markdown",
   "metadata": {
    "collapsed": false,
    "jupyter": {
     "outputs_hidden": false
    }
   },
   "source": [
    "## 전처리"
   ]
  },
  {
   "cell_type": "code",
   "execution_count": 92,
   "metadata": {
    "ExecuteTime": {
     "start_time": "2023-05-27T01:29:45.729080Z",
     "end_time": "2023-05-27T01:29:45.757746Z"
    },
    "collapsed": false,
    "jupyter": {
     "outputs_hidden": false
    }
   },
   "outputs": [],
   "source": [
    "import pandas as pd\n",
    "from ast import literal_eval\n",
    "\n",
    "movies = pd.read_csv('./data/movies_metadata.csv', nrows=30)[['id', 'title', 'genres', 'vote_average']]\n",
    "movies['genres'] = movies['genres'].apply(literal_eval).apply(lambda genres : ', '.join([g['name'] for g in genres]))\n",
    "movies['id'] = movies['id'].astype(int)\n",
    "movies.head(3)"
   ]
  },
  {
   "cell_type": "markdown",
   "metadata": {
    "collapsed": false,
    "jupyter": {
     "outputs_hidden": false
    }
   },
   "source": [
    "## Embedding"
   ]
  },
  {
   "cell_type": "code",
   "execution_count": 86,
   "metadata": {
    "collapsed": false,
    "jupyter": {
     "outputs_hidden": false
    },
    "ExecuteTime": {
     "start_time": "2023-05-27T01:29:19.142576Z",
     "end_time": "2023-05-27T01:29:20.247312Z"
    }
   },
   "outputs": [],
   "source": [
    "import torch\n",
    "from sentence_transformers import SentenceTransformer\n",
    "\n",
    "device = torch.device('mps') if torch.backends.mps.is_available() else torch.device('cpu')\n",
    "model = SentenceTransformer(\"jhgan/ko-sroberta-multitask\").to(device=device)\n",
    "\n",
    "embeddings = model.encode(movies['title'], convert_to_numpy=True, show_progress_bar=True)"
   ]
  },
  {
   "cell_type": "markdown",
   "source": [
    "* embedding 컬럼 추가"
   ],
   "metadata": {
    "collapsed": false
   }
  },
  {
   "cell_type": "code",
   "execution_count": 87,
   "outputs": [],
   "source": [
    "movies['embeddings'] = embeddings.tolist()\n",
    "movies.head(3)"
   ],
   "metadata": {
    "collapsed": false,
    "ExecuteTime": {
     "start_time": "2023-05-27T01:29:21.498869Z",
     "end_time": "2023-05-27T01:29:21.509684Z"
    }
   }
  },
  {
   "cell_type": "markdown",
   "source": [
    "* dimension 체크"
   ],
   "metadata": {
    "collapsed": false
   }
  },
  {
   "cell_type": "code",
   "execution_count": 88,
   "outputs": [],
   "source": [
    "movies['embeddings'].size"
   ],
   "metadata": {
    "collapsed": false,
    "ExecuteTime": {
     "start_time": "2023-05-27T01:29:22.749440Z",
     "end_time": "2023-05-27T01:29:22.760407Z"
    }
   }
  },
  {
   "cell_type": "markdown",
   "metadata": {
    "collapsed": false,
    "jupyter": {
     "outputs_hidden": false
    }
   },
   "source": [
    "## 콜렉션 생성\n",
    "* Collection : RDB의 Table과 비슷. 하나 이상의 파티션으로 구성. 기본적으로 단일 컬렉션에는 두 개의 샤드가 포함된다.\n",
    "* DataType 및 속성 : https://milvus.io/docs/create_collection.md"
   ]
  },
  {
   "cell_type": "code",
   "execution_count": 89,
   "metadata": {
    "ExecuteTime": {
     "start_time": "2023-05-27T01:29:24.277022Z",
     "end_time": "2023-05-27T01:29:24.284419Z"
    },
    "collapsed": false,
    "jupyter": {
     "outputs_hidden": false
    }
   },
   "outputs": [],
   "source": [
    "from pymilvus import FieldSchema, CollectionSchema, DataType\n",
    "\n",
    "def init_schema() -> CollectionSchema :\n",
    "    fields = [\n",
    "        FieldSchema(name=\"id\", dtype=DataType.INT64, is_primary=True, auto_id=False),\n",
    "        FieldSchema(name=\"title\", dtype=DataType.VARCHAR, max_length=256),\n",
    "        FieldSchema(name=\"genres\", dtype=DataType.VARCHAR, max_length=256),\n",
    "        FieldSchema(name=\"vote_average\", dtype=DataType.DOUBLE),\n",
    "        FieldSchema(name=\"embeddings\", dtype=DataType.FLOAT_VECTOR, dim=768) # dim 벡터 차원\n",
    "    ]\n",
    "    return CollectionSchema(fields, \"movie\")"
   ]
  },
  {
   "cell_type": "markdown",
   "source": [
    "##  Milvus에 데이터 추가"
   ],
   "metadata": {
    "collapsed": false
   }
  },
  {
   "cell_type": "code",
   "execution_count": 90,
   "metadata": {
    "collapsed": false,
    "jupyter": {
     "outputs_hidden": false
    },
    "ExecuteTime": {
     "start_time": "2023-05-27T01:12:54.550812Z",
     "end_time": "2023-05-27T01:13:06.320829Z"
    }
   },
   "outputs": [],
   "source": [
    "from milvus import default_server\n",
    "from pymilvus import connections, Collection, utility\n",
    "\n",
    "with default_server:\n",
    "    default_server.set_base_dir('milvus_data')\n",
    "\n",
    "    # 서버 연결\n",
    "    connections.connect(host='127.0.0.1', port=default_server.listen_port)\n",
    "\n",
    "    schema = init_schema()\n",
    "    utility.drop_collection(\"movie\")\n",
    "\n",
    "    # 컬렉션 생성\n",
    "    collection = Collection(\"movie\",\n",
    "                          schema,\n",
    "                          using=\"default\", # 서버 별칭을 사용하여 컬렉션을 생성할 서버명을 지정 가능\n",
    "                          shards_num=2 # 샤드 수\n",
    "                          )\n",
    "\n",
    "    # 데이터 삽입\n",
    "    collection.insert(movies)\n",
    "    collection.flush() # 세그먼트는 특정 크기 이상이어야 sealed 됨. 강제로 sealed하여 인덱싱\n",
    "\n",
    "    collection.load()\n",
    "    q = model.encode(\"money\", convert_to_numpy=True, show_progress_bar=True)\n",
    "    search_params = {\n",
    "        \"metric_type\": \"L2\",\n",
    "        \"params\": {\"nprobe\": 10},\n",
    "    }\n",
    "    results = collection.search(q, \"embeddings\", search_params, limit=3, output_fields=[\"title\"])\n",
    "    print(\"test\")\n",
    "    print(results[0][0])"
   ]
  },
  {
   "cell_type": "markdown",
   "source": [],
   "metadata": {
    "collapsed": false
   }
  }
 ],
 "metadata": {
  "kernelspec": {
   "display_name": "Python 3 (ipykernel)",
   "language": "python",
   "name": "python3"
  },
  "language_info": {
   "codemirror_mode": {
    "name": "ipython",
    "version": 3
   },
   "file_extension": ".py",
   "mimetype": "text/x-python",
   "name": "python",
   "nbconvert_exporter": "python",
   "pygments_lexer": "ipython3",
   "version": "3.10.10"
  }
 },
 "nbformat": 4,
 "nbformat_minor": 4
}
