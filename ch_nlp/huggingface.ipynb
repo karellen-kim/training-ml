{
 "cells": [
  {
   "cell_type": "markdown",
   "id": "e709ba6c-5ed3-4b61-b3b5-b72331410818",
   "metadata": {
    "pycharm": {
     "name": "#%% md\n"
    }
   },
   "source": [
    "## Translater"
   ]
  },
  {
   "cell_type": "code",
   "execution_count": 2,
   "id": "de5de976-af8c-4325-97b9-1d5a3c3c368d",
   "metadata": {
    "tags": [],
    "pycharm": {
     "name": "#%%\n"
    }
   },
   "outputs": [
    {
     "name": "stderr",
     "output_type": "stream",
     "text": [
      "No model was supplied, defaulted to t5-base and revision 686f1db (https://huggingface.co/t5-base).\n",
      "Using a pipeline without specifying a model name and revision in production is not recommended.\n"
     ]
    },
    {
     "data": {
      "text/plain": "[{'translation_text': \"Le soleil s'élève dans les collines.\"}]"
     },
     "execution_count": 2,
     "metadata": {},
     "output_type": "execute_result"
    }
   ],
   "source": [
    "from transformers import pipeline\n",
    "\n",
    "translator = pipeline(\"translation_en_to_fr\")\n",
    "translator(\"The sun is rising amid the hills.\")"
   ]
  },
  {
   "cell_type": "markdown",
   "id": "09ff7a0e-bd60-4706-bae8-c0b2fca6d829",
   "metadata": {
    "pycharm": {
     "name": "#%% md\n"
    }
   },
   "source": [
    "* Translater : 한국어"
   ]
  },
  {
   "cell_type": "code",
   "execution_count": 3,
   "id": "d1472520-2d7c-4051-8d2a-d186fab88118",
   "metadata": {
    "tags": [],
    "pycharm": {
     "name": "#%%\n"
    }
   },
   "outputs": [
    {
     "name": "stdout",
     "output_type": "stream",
     "text": [
      "huggingface/tokenizers: The current process just got forked, after parallelism has already been used. Disabling parallelism to avoid deadlocks...\n",
      "To disable this warning, you can either:\n",
      "\t- Avoid using `tokenizers` before the fork if possible\n",
      "\t- Explicitly set the environment variable TOKENIZERS_PARALLELISM=(true | false)\n"
     ]
    },
    {
     "name": "stderr",
     "output_type": "stream",
     "text": [
      "Downloading (…)olve/main/source.spm: 100%|██████████| 842k/842k [00:01<00:00, 478kB/s]\n",
      "Downloading (…)olve/main/target.spm: 100%|██████████| 813k/813k [00:01<00:00, 456kB/s]\n",
      "Downloading (…)olve/main/vocab.json: 100%|██████████| 1.72M/1.72M [00:02<00:00, 688kB/s]\n",
      "/Users/eunmi.kim/Library/Caches/pypoetry/virtualenvs/pythonproject-lXhPpjWq-py3.8/lib/python3.8/site-packages/transformers/models/marian/tokenization_marian.py:194: UserWarning: Recommended: pip install sacremoses.\n",
      "  warnings.warn(\"Recommended: pip install sacremoses.\")\n",
      "Downloading (…)\"pytorch_model.bin\";: 100%|██████████| 312M/312M [01:01<00:00, 5.04MB/s] \n",
      "Downloading (…)neration_config.json: 100%|██████████| 293/293 [00:00<00:00, 74.1kB/s]\n"
     ]
    }
   ],
   "source": [
    "from transformers import pipeline\n",
    "from transformers import AutoTokenizer, AutoModelForSeq2SeqLM\n",
    "\n",
    "tokenizer = AutoTokenizer.from_pretrained(\"Helsinki-NLP/opus-mt-ko-en\", cache_dir=\"~/dataset/hf/\")\n",
    "model = AutoModelForSeq2SeqLM.from_pretrained(\"Helsinki-NLP/opus-mt-ko-en\", cache_dir=\"~/dataset/hf/\")\n",
    "\n",
    "translator = pipeline(\"translation\", \n",
    "                      tokenizer = tokenizer,\n",
    "                      model =  model)"
   ]
  },
  {
   "cell_type": "markdown",
   "id": "8e8895a5-223f-4a9a-9267-edd65287e855",
   "metadata": {
    "pycharm": {
     "name": "#%% md\n"
    }
   },
   "source": [
    "## Text Classifier"
   ]
  },
  {
   "cell_type": "code",
   "execution_count": 6,
   "id": "b1e8ae20-8b07-40ee-b66c-daace786717a",
   "metadata": {
    "tags": [],
    "pycharm": {
     "name": "#%%\n"
    }
   },
   "outputs": [
    {
     "name": "stderr",
     "output_type": "stream",
     "text": [
      "No model was supplied, defaulted to distilbert-base-uncased-finetuned-sst-2-english and revision af0f99b (https://huggingface.co/distilbert-base-uncased-finetuned-sst-2-english).\n",
      "Using a pipeline without specifying a model name and revision in production is not recommended.\n"
     ]
    },
    {
     "data": {
      "text/plain": [
       "[{'label': 'NEGATIVE', 'score': 0.9846920371055603}]"
      ]
     },
     "execution_count": 6,
     "metadata": {},
     "output_type": "execute_result"
    }
   ],
   "source": [
    "from transformers import pipeline\n",
    "\n",
    "textClassifier = pipeline(\"text-classification\")\n",
    "textClassifier(\"Call me Ishmael. \\\n",
    "Some years ago—never mind how long precisely—having little \\\n",
    "or no money in my purse, and nothing particular to interest me on shore, \\\n",
    "I thought I would sail about a little and see the watery part of the world. \\\n",
    "It is a way I have of driving off the spleen, and regulating the circulation.\")"
   ]
  },
  {
   "cell_type": "code",
   "execution_count": null,
   "id": "e5e1067d-69bf-4d6a-91c3-d78f47156d8e",
   "metadata": {
    "pycharm": {
     "name": "#%%\n"
    }
   },
   "outputs": [],
   "source": []
  }
 ],
 "metadata": {
  "kernelspec": {
   "display_name": "Python 3 (ipykernel)",
   "language": "python",
   "name": "python3"
  },
  "language_info": {
   "codemirror_mode": {
    "name": "ipython",
    "version": 3
   },
   "file_extension": ".py",
   "mimetype": "text/x-python",
   "name": "python",
   "nbconvert_exporter": "python",
   "pygments_lexer": "ipython3",
   "version": "3.8.12"
  }
 },
 "nbformat": 4,
 "nbformat_minor": 5
}